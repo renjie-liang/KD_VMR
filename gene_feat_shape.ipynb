{
 "cells": [
  {
   "cell_type": "code",
   "execution_count": 2,
   "metadata": {},
   "outputs": [],
   "source": [
    "import numpy as np\n",
    "import json\n",
    "import os\n",
    "from tqdm import tqdm"
   ]
  },
  {
   "cell_type": "code",
   "execution_count": 3,
   "metadata": {},
   "outputs": [],
   "source": [
    "def gene_feat_len(feat_path):\n",
    "    len_path = os.path.join(feat_path, \"feature_shapes.json\")\n",
    "\n",
    "    len_data = {}\n",
    "    for name in tqdm(os.listdir(feat_path)):\n",
    "        if name[-3:] == 'npy':\n",
    "            data = np.load(os.path.join(feat_path,name))\n",
    "            len_data[name[:-4]] =  data.shape[0]\n",
    "\n",
    "    with open(len_path, mode='w') as f:\n",
    "        json.dump(len_data, f)"
   ]
  },
  {
   "cell_type": "code",
   "execution_count": 4,
   "metadata": {},
   "outputs": [
    {
     "name": "stderr",
     "output_type": "stream",
     "text": [
      "100%|██████████| 6672/6672 [00:37<00:00, 175.70it/s]\n"
     ]
    }
   ],
   "source": [
    "feat_path = \"/storage_fast/rjliang/charades/i3d_finetuned/\"\n",
    "feat_path = \"/storage_fast/rjliang/charades/c3d_1024/\"\n",
    "gene_feat_len(feat_path)"
   ]
  },
  {
   "cell_type": "code",
   "execution_count": null,
   "metadata": {},
   "outputs": [],
   "source": []
  }
 ],
 "metadata": {
  "kernelspec": {
   "display_name": "Python 3.9.7 ('py3')",
   "language": "python",
   "name": "python3"
  },
  "language_info": {
   "codemirror_mode": {
    "name": "ipython",
    "version": 3
   },
   "file_extension": ".py",
   "mimetype": "text/x-python",
   "name": "python",
   "nbconvert_exporter": "python",
   "pygments_lexer": "ipython3",
   "version": "3.9.7"
  },
  "orig_nbformat": 4,
  "vscode": {
   "interpreter": {
    "hash": "85417aaa996bf384aabef58b87c77e6a0c178545399cda58bd1fcf7e684b91db"
   }
  }
 },
 "nbformat": 4,
 "nbformat_minor": 2
}
